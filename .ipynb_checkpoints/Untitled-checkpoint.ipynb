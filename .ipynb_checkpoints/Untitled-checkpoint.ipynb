{
 "cells": [
  {
   "cell_type": "code",
   "execution_count": 9,
   "metadata": {},
   "outputs": [
    {
     "name": "stdout",
     "output_type": "stream",
     "text": [
      "/home/harshit/Projects/RnD/virdana/images/\n",
      "/home/harshit/Projects/RnD/virdana/images/image1.png\n",
      "804\n",
      "[0 0 0 ... 0 0 0]\n",
      "/home/harshit/Projects/RnD/virdana/images/sample_1.png\n",
      "13\n",
      "[255 255 255 255 255 255 255 255 255 255 255 255 255 255 255 255 255 255\n",
      " 255 255 255 255 185  79 207 255 180 155 255 255 255 255 255 255 255 255\n",
      " 255 153  31 102 255 147 110 255 251 255 255 255 255 255 255 255 153  97\n",
      "  62 231 147 110 255 100 255 255 255 255 255 255 255 153 103 182 127 147\n",
      " 110 255 255 255 255 255 255 255 255 255 153 103 249  66 144 110 254 141\n",
      " 255 255 255 255 255 255 255 153 103 255 130  24 110 229  20 255 255 255\n",
      " 255 255 255 255 153 103 255 242  24 110 248  60 255 255 255 255 255 255\n",
      " 255 228 214 255 255 203 216 255 248 255 255 255 255 255 255 255 255 255\n",
      " 255 255 255 255 255 255 255 255 255 255 255 255 255 255 255 255 255 255\n",
      " 255 255 255 255 255 255 255 255 255 255 255 255 255 255 255 255 255 255\n",
      " 255 255 255 255 255 255 255 255 255 255 255 255 255 255 255]\n"
     ]
    }
   ],
   "source": [
    "from PIL import Image\n",
    "import numpy as np\n",
    "import sys\n",
    "import os\n",
    "import csv\n",
    "\n",
    "#Useful function\n",
    "def createFileList(myDir, format='.jpg'):\n",
    "    fileList = []\n",
    "    print(myDir)\n",
    "    for root, dirs, files in os.walk(myDir, topdown=False):\n",
    "        for name in files:\n",
    "            if name.endswith(format):\n",
    "                fullName = os.path.join(root, name)\n",
    "                fileList.append(fullName)\n",
    "    return fileList\n",
    "\n",
    "# load the original image\n",
    "fileList = createFileList('/home/harshit/Projects/RnD/virdana/images/',format='.png')\n",
    "\n",
    "for file in fileList:\n",
    "    print(file)\n",
    "    img_file = Image.open(file)\n",
    "    # img_file.show()\n",
    "\n",
    "    # get original image parameters...\n",
    "    width, height = img_file.size\n",
    "    format = img_file.format\n",
    "    mode = img_file.mode\n",
    "\n",
    "    # Make image Greyscale\n",
    "    img_grey = img_file.convert('L')\n",
    "    #img_grey.save('result.png')\n",
    "    #img_grey.show()\n",
    "\n",
    "    # Save Greyscale values\n",
    "    value = np.asarray(img_grey.getdata(), dtype=np.int).reshape((img_grey.size[1], img_grey.size[0]))\n",
    "    value = value.flatten()\n",
    "    print(value)\n",
    "    with open(\"img_pixels.csv\", 'a') as f:\n",
    "        writer = csv.writer(f)\n",
    "        writer.writerow(value)"
   ]
  },
  {
   "cell_type": "code",
   "execution_count": 3,
   "metadata": {},
   "outputs": [
    {
     "ename": "ImportError",
     "evalue": "No module named pytesseract",
     "output_type": "error",
     "traceback": [
      "\u001b[0;31m---------------------------------------------------------------------------\u001b[0m",
      "\u001b[0;31mImportError\u001b[0m                               Traceback (most recent call last)",
      "\u001b[0;32m<ipython-input-3-5af88fcdaa01>\u001b[0m in \u001b[0;36m<module>\u001b[0;34m()\u001b[0m\n\u001b[1;32m      1\u001b[0m \u001b[0;32mfrom\u001b[0m \u001b[0mPIL\u001b[0m \u001b[0;32mimport\u001b[0m \u001b[0mImage\u001b[0m\u001b[0;34m\u001b[0m\u001b[0m\n\u001b[0;32m----> 2\u001b[0;31m \u001b[0;32mimport\u001b[0m \u001b[0mpytesseract\u001b[0m\u001b[0;34m\u001b[0m\u001b[0m\n\u001b[0m\u001b[1;32m      3\u001b[0m \u001b[0;32mimport\u001b[0m \u001b[0mcv2\u001b[0m\u001b[0;34m\u001b[0m\u001b[0m\n\u001b[1;32m      4\u001b[0m \u001b[0;34m\u001b[0m\u001b[0m\n\u001b[1;32m      5\u001b[0m \u001b[0moriginalImg\u001b[0m \u001b[0;34m=\u001b[0m \u001b[0mcv2\u001b[0m\u001b[0;34m.\u001b[0m\u001b[0mimread\u001b[0m\u001b[0;34m(\u001b[0m\u001b[0;34m'images/sample_1.png'\u001b[0m\u001b[0;34m)\u001b[0m\u001b[0;34m\u001b[0m\u001b[0m\n",
      "\u001b[0;31mImportError\u001b[0m: No module named pytesseract"
     ]
    }
   ],
   "source": [
    "from PIL import Image\n",
    "import pytesseract\n",
    "import cv2\n",
    "\n",
    "originalImg = cv2.imread('images/sample_1.png')\n",
    "originalImg = cv2.resize(originalImg, None, fx=2.5, fy=2.5)\n",
    "img = cv2.cvtColor(originalImg, cv2.COLOR_BGR2GRAY)\n",
    "_,img = cv2.threshold(img,100,255,cv2.THRESH_BINARY)\n",
    "\n",
    "h, w = img.shape\n",
    "\n",
    "letters = pytesseract.image_to_boxes(img)\n",
    "letters = letters.split('\\n')\n",
    "letters = [letter.split() for letter in letters]\n",
    "\n",
    "for letter in letters:    \n",
    "    cv2.rectangle(originalImg, (int(letter[1]), h - int(letter[2])), (int(letter[3]), h - int(letter[4])), (0,0,255), 1)\n",
    "\n",
    "cv2.imshow('', originalImg)"
   ]
  },
  {
   "cell_type": "code",
   "execution_count": null,
   "metadata": {},
   "outputs": [],
   "source": []
  }
 ],
 "metadata": {
  "kernelspec": {
   "display_name": "Python 3",
   "language": "python",
   "name": "python3"
  },
  "language_info": {
   "codemirror_mode": {
    "name": "ipython",
    "version": 2
   },
   "file_extension": ".py",
   "mimetype": "text/x-python",
   "name": "python",
   "nbconvert_exporter": "python",
   "pygments_lexer": "ipython2",
   "version": "2.7.15rc1"
  }
 },
 "nbformat": 4,
 "nbformat_minor": 2
}
