{
 "cells": [
  {
   "cell_type": "code",
   "execution_count": 7,
   "metadata": {},
   "outputs": [],
   "source": [
    "import os, sys\n",
    "from PIL import Image\n",
    "import cv2\n",
    "import sys\n",
    "import pytesseract\n",
    "import Database\n",
    "from IPython.display import Image"
   ]
  },
  {
   "cell_type": "code",
   "execution_count": 8,
   "metadata": {},
   "outputs": [],
   "source": [
    "def resizeImage(intfile):\n",
    "    size = 28, 28\n",
    "    outfile = \"checkbox.png\"\n",
    "    if infile != outfile:\n",
    "        try:\n",
    "            im = Image.open(infile)\n",
    "            im.thumbnail(size, Image.ANTIALIAS)\n",
    "            im.save(outfile, \"PNG\")\n",
    "        except IOError:\n",
    "            print (\"cannot create thumbnail for '%s'\" % infile)\n",
    "            "
   ]
  },
  {
   "cell_type": "code",
   "execution_count": 9,
   "metadata": {},
   "outputs": [],
   "source": [
    "def cropImage(strImagPath,x,y,width,height):\n",
    "  #imPath = \"images/page_2.png\"  \n",
    "  imPath = strImagPath\n",
    "  config = ('-l eng --oem 1 --psm 3')\n",
    "  im = cv2.imread(imPath, cv2.IMREAD_COLOR)\n",
    "  crop_img = im[y:y+height, x:x+width]\n",
    "  cv2.imwrite(\"checkbox_read.png\",im)"
   ]
  },
  {
   "cell_type": "code",
   "execution_count": null,
   "metadata": {},
   "outputs": [],
   "source": []
  }
 ],
 "metadata": {
  "kernelspec": {
   "display_name": "Python 3",
   "language": "python",
   "name": "python3"
  },
  "language_info": {
   "codemirror_mode": {
    "name": "ipython",
    "version": 3
   },
   "file_extension": ".py",
   "mimetype": "text/x-python",
   "name": "python",
   "nbconvert_exporter": "python",
   "pygments_lexer": "ipython3",
   "version": "3.6.5"
  }
 },
 "nbformat": 4,
 "nbformat_minor": 2
}
